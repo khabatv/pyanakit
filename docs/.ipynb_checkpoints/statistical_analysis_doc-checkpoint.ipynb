{
 "cells": [
  {
   "cell_type": "markdown",
   "id": "a5144ac1-16a0-4f2d-a095-959b158bc99b",
   "metadata": {},
   "source": [
    "# Developer Handbook - Statistical_analysis.py\n",
    "- modul to perform statistical analysis on data\n",
    "    - T-Test (independant)\n",
    "    - Anova (oneway) + post hoc-Test\n",
    "- used test is selected by user via GUI input\n",
    "- additional safety: number of treatments in data is a factor for choosing test \n",
    "- list of functions:\n",
    "    - perform_t_test()\n",
    "    - perform_anova()\n",
    " \n",
    "## Packages"
   ]
  },
  {
   "cell_type": "code",
   "execution_count": null,
   "id": "3e26920a-193f-4eb8-b7af-ebc4f158e2c9",
   "metadata": {},
   "outputs": [],
   "source": [
    "from scipy.stats import ttest_ind, f_oneway\n",
    "from statsmodels.stats.multicomp import pairwise_tukeyhsd"
   ]
  },
  {
   "cell_type": "markdown",
   "id": "a7f7f730-6984-4cab-a5fb-ae345915e2a2",
   "metadata": {},
   "source": [
    "## Function - perform_t_test()\n",
    "- 2 parameter: re-structured data (\"melted data\"), treatment to compare (set via GUI)\n",
    "1. initialisation of the variable \"Treatment\" to find out how many unique treatments are available in the data set\n",
    "    - function only calculates test, when number of unique treatment == 2, otherwise errormessage in console and no return values \n",
    "2. assinging group1 and groups 2 for tests\n",
    "3. perform t-test (ttest_ind()) with groups\n",
    "4. printing test values (t_statistic and p-value)\n",
    "return: t-statistic, p-value"
   ]
  },
  {
   "cell_type": "code",
   "execution_count": null,
   "id": "b6b1c1bc-2e16-4b3a-9899-d73642f178ca",
   "metadata": {},
   "outputs": [],
   "source": [
    "def perform_t_test(melted_data, treatment_to_compare):\n",
    "    # Conduct a t-test between two treatments if applicable\n",
    "    treatments = melted_data[treatment_to_compare].unique()\n",
    "    if len(treatments) == 2:\n",
    "        group1 = melted_data[melted_data[treatment_to_compare] == treatments[0]]['Value']\n",
    "        group2 = melted_data[melted_data[treatment_to_compare] == treatments[1]]['Value']\n",
    "        # Perform the t-test (independant)\n",
    "        t_stat, p_value = ttest_ind(group1, group2)\n",
    "        print(f\"t-statistic: {t_stat}, p-value: {p_value}\")\n",
    "        return t_stat, p_value\n",
    "        \n",
    "    else:\n",
    "        print(\"No statistic! Current statistical analysis requires exactly two or more treatments.\")\n",
    "        return None, None"
   ]
  },
  {
   "cell_type": "markdown",
   "id": "16ff6a8f-7e80-4a45-bf16-45b7cf0f5fa7",
   "metadata": {},
   "source": [
    "## Function - perform_anova()\n",
    "- 2 parameter: re-structured data (\"melted data\"), treatment to compare (set via GUI)\n",
    "1. initialisation of the variable \"treatment\" (Numpy-array) to find out how many unique treatments are available in the data set\n",
    "    - function only calculates test, when number of unique treatment > 2, otherwise errormessage in console and no return values\n",
    "2. initialisation of the variable groups: grouping data according to variable \"treatment\"\n",
    "3. use groups to perform oneway anova\n",
    "4. depedending on p-value post hoc test will be calutlated when p < 0.05 using pairwise_tukeyhsd()\n",
    "return: f-statistic, p-value, optional: tukey result"
   ]
  },
  {
   "cell_type": "code",
   "execution_count": null,
   "id": "a0b53d79-d9b7-4d7c-b108-67b3cbb6f626",
   "metadata": {},
   "outputs": [],
   "source": [
    "def perform_anova(melted_data, treatment_to_compare):\n",
    "    # Perform ANOVA between multiple treatments\n",
    "    treatments = melted_data[treatment_to_compare].unique()\n",
    "    if len(treatments) > 2:\n",
    "        groups = [melted_data[melted_data[treatment_to_compare] == t]['Value'] for t in treatments]\n",
    "        f_stat, p_value = f_oneway(*groups)\n",
    "        \n",
    "        print(f\"ANOVA F-statistic: {f_stat}, p-value: {p_value}\")\n",
    "        if p_value < 0.05: \n",
    "            tukey_result = pairwise_tukeyhsd(melted_data['Value'], melted_data[treatment_to_compare], alpha=0.05)\n",
    "            #print(tukey_result)\n",
    "            return f_stat, p_value, tukey_result.summary()\n",
    "        else:\n",
    "            print(\"No significant difference, therefore no post-hoc test required.\")\n",
    "            return f_stat, p_value, None\n",
    "        \n",
    "    else:\n",
    "        print(\"ANOVA requires more than two treatments.\")\n",
    "        return None, None, None"
   ]
  }
 ],
 "metadata": {
  "kernelspec": {
   "display_name": "Python 3 (ipykernel)",
   "language": "python",
   "name": "python3"
  },
  "language_info": {
   "codemirror_mode": {
    "name": "ipython",
    "version": 3
   },
   "file_extension": ".py",
   "mimetype": "text/x-python",
   "name": "python",
   "nbconvert_exporter": "python",
   "pygments_lexer": "ipython3",
   "version": "3.12.4"
  }
 },
 "nbformat": 4,
 "nbformat_minor": 5
}
