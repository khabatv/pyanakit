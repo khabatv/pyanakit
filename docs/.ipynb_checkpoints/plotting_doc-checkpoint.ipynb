{
 "cells": [
  {
   "cell_type": "markdown",
   "id": "0ae627f5-bd86-430d-9fc4-98ed9b17b2b1",
   "metadata": {},
   "source": [
    "# Developer Handbook - Plotting.py\n",
    "- module contains functions to create plots according to data and choosen GUI options\n",
    "- list of functions:\n",
    "    - basic plot functions: creates plottype, functionname represents plottype (e.g. plot_violin(), plot_box(), ..)\n",
    "    - style_plot(): functions adds additional plotfeatures to basic plot (e.g. axislabels, suptitle, legend)\n",
    "    - overlay_data_point_and_error_bars(): adds standard deviation, mean and option datapoint to plot\n",
    "- parameter glossar:\n",
    "    - data : DataFrame containing the data to plot.\n",
    "    - treatment_to_compare: The column to use for grouping data\n",
    "    - y_column: The column containing the dependent variable\n",
    " \n",
    "## Packages "
   ]
  },
  {
   "cell_type": "code",
   "execution_count": null,
   "id": "2883a645-78ab-4c63-86ee-adb3fa14bc92",
   "metadata": {},
   "outputs": [],
   "source": [
    "import seaborn as sns\n",
    "import matplotlib.pyplot as plt\n",
    "import pandas as pd"
   ]
  },
  {
   "cell_type": "markdown",
   "id": "6283468b-2b48-4835-91a5-b24903f80222",
   "metadata": {},
   "source": [
    "## Function - basic plot functions  \n",
    "### plot_violin()\n",
    "- parameter: data, treatment_to_compare (determined by GUI/user), y_column (\"values\")\n",
    "- violin plot from seaborn package, only outer line of distribution is shown \n",
    "- additional withing function: overlay_data[...]() and style_plot()"
   ]
  },
  {
   "cell_type": "code",
   "execution_count": null,
   "id": "ee6a4eb7-aa38-479f-aa5d-961df09c0070",
   "metadata": {},
   "outputs": [],
   "source": [
    "def plot_violin(data, treatment_to_compare, y_column):\n",
    "    sns.violinplot(x=treatment_to_compare, y='Value', data=data, inner=None)\n",
    "    overlay_data_points_and_error_bars(data, treatment_to_compare, \"Violin Plot\")\n",
    "    style_plot(\"Violin Plot\", treatment_to_compare, y_column)"
   ]
  },
  {
   "cell_type": "markdown",
   "id": "df777203-48d7-4de9-83c9-f67e5b03b34b",
   "metadata": {},
   "source": [
    "### plot_box()\n",
    "- parameter: data, treatment_to_compare (determined by GUI/user), y_column (\"values\")\n",
    "- box-plot from seaborn package\n",
    "- additional within function: overlay_data[...]() and style_plot()"
   ]
  },
  {
   "cell_type": "code",
   "execution_count": null,
   "id": "5e22ad59-ddeb-4c4e-a695-66265acf3f2e",
   "metadata": {},
   "outputs": [],
   "source": [
    "def plot_box(data, treatment_to_compare, y_column):\n",
    "    sns.boxplot(x=treatment_to_compare, y='Value', data=data)\n",
    "    overlay_data_points_and_error_bars(data, treatment_to_compare, \"Box Plot\")\n",
    "    style_plot(\"Box Plot\", treatment_to_compare, y_column)"
   ]
  },
  {
   "cell_type": "markdown",
   "id": "9931a1d1-d9d0-409d-8002-5b9eb59f948d",
   "metadata": {},
   "source": [
    "### plot_bar()\n",
    "- parameter: data, treatment_to_compare (determined by GUI/user), y_column (\"values\")\n",
    "- bar-plot from seaborn package, estimator is mean (default option) and no ci shown \n",
    "- additional within function: overlay_data[...]() and style_plot()"
   ]
  },
  {
   "cell_type": "code",
   "execution_count": null,
   "id": "b59e242f-ffa6-41af-a90b-6cbb638a4a26",
   "metadata": {},
   "outputs": [],
   "source": [
    "def plot_bar(data, treatment_to_compare, y_column):        \n",
    "    sns.barplot(x=treatment_to_compare, y='Value', data=data, estimator='mean', ci=None)\n",
    "    overlay_data_points_and_error_bars(data, treatment_to_compare, \"Bar Plot\")\n",
    "    style_plot(\"Bar Plot\", treatment_to_compare, y_column)"
   ]
  },
  {
   "cell_type": "markdown",
   "id": "7c7da54e-8766-418f-b48f-a8bba66dced5",
   "metadata": {},
   "source": [
    "### plot_line()\n",
    "- parameter: data, treatment_to_compare (determined by GUI/user)\n",
    "- data-values grouped by treatment to compare, mean and standard deviation computed for each treatment to compare group \n",
    "- line-plot from seaborn package\n",
    "- additional within function: overlay_data[...]() and style_plot()"
   ]
  },
  {
   "cell_type": "code",
   "execution_count": null,
   "id": "823aa880-3aaf-4ca7-a890-52af709ea6cf",
   "metadata": {},
   "outputs": [],
   "source": [
    "def plot_line(data, treatment_to_compare, y_column):\n",
    "    summary_stats = data.groupby(treatment_to_compare)['Value'].agg(['mean', 'std']).reset_index()\n",
    "    sns.lineplot(data=data, x=treatment_to_compare, y='Value', estimator='mean', ci=None)\n",
    "    plt.errorbar(summary_stats[treatment_to_compare], summary_stats['mean'], yerr=summary_stats['std'],\n",
    "                     fmt='o', color='k', capsize=5, label='Mean ± SD')\n",
    "    style_plot(\"Line Plot\", treatment_to_compare, y_column)"
   ]
  },
  {
   "cell_type": "markdown",
   "id": "67d9b143-d495-4a5d-ac52-be590920e94e",
   "metadata": {},
   "source": [
    "### plot_hist()\n",
    "- parameter: data, treatment_to_compare (determined by GUI/user), y_column (\"values\")\n",
    "- histogramm-plot from seaborn package"
   ]
  },
  {
   "cell_type": "code",
   "execution_count": null,
   "id": "980d8cee-319d-4f9b-8b1c-1896311b3b38",
   "metadata": {},
   "outputs": [],
   "source": [
    "def plot_hist(data, treatment_to_compare, y_column):\n",
    "    sns.histplot(data['Value'], bins=20)\n",
    "    style_plot(\"Histogram\", treatment_to_compare, y_column)"
   ]
  },
  {
   "cell_type": "markdown",
   "id": "287d214e-3931-4b7a-9510-db25ec39243b",
   "metadata": {},
   "source": [
    "### plot_heatmap()\n",
    "- parameter: data, treatment_to_compare (determined by GUI/user)\n",
    "- check if treatment to compare is in \"Treatment1\" or \"Treatment2\", else: value error raised\n",
    "- create unique group based on treatment_to_compare\n",
    "- pivot tabel to aggregate data: aggregation according to unique_treatment and line-ID (\"Accession\"), mean ist used to aggregate\n",
    "- plot heatmap from aggregated data, colormap: `YlGnBu`, annotations deactivated \n",
    "- heatmap-plot from seaborn package\n",
    "- additional within function: style_plot()"
   ]
  },
  {
   "cell_type": "code",
   "execution_count": null,
   "id": "19bccfb8-d815-4d22-911b-871f880d531e",
   "metadata": {},
   "outputs": [],
   "source": [
    "def plot_heatmap(data, treatment_to_compare):\n",
    "    if treatment_to_compare not in [\"Treatment1\", \"Treatment2\"]:\n",
    "        raise ValueError(\"Unsupported treatment specified.\")\n",
    "\n",
    "    if treatment_to_compare == \"Treatment1\":\n",
    "        unique_treatment = data['Treatment1']\n",
    "    elif treatment_to_compare == \"Treatment2\":\n",
    "        unique_treatment = data['Treatment1'] + \"_\" + data['Treatment2']\n",
    "    else:\n",
    "        unique_treatment = data['Treatment1'] + \"_\" + data['Treatment2'] + \"_\" + data['Sample']\n",
    "\n",
    "    data['Unique_Treatment'] = unique_treatment\n",
    "\n",
    "    heatmap_data = pd.pivot_table(data, index=\"Accession\", columns=\"Unique_Treatment\", values=\"Value\", aggfunc=\"mean\")\n",
    "    sns.heatmap(heatmap_data, cmap=\"YlGnBu\", annot=False)\n",
    "    style_plot(\"Heatmap\", treatment_to_compare)"
   ]
  },
  {
   "cell_type": "markdown",
   "id": "34d6224c-af5a-44bd-9fa2-74604bb9005e",
   "metadata": {},
   "source": [
    "### plot_swarm()\n",
    "- parameter: data, treatment_to_compare (determined by GUI/user), y_column (\"values\")\n",
    "- swarm-plot from seaborn package\n",
    "- additional within function: overlay_data[...]() and style_plot()"
   ]
  },
  {
   "cell_type": "code",
   "execution_count": null,
   "id": "fbc7c93d-995f-4feb-88fc-a5cd720de2a4",
   "metadata": {},
   "outputs": [],
   "source": [
    "def plot_swarm(data, treatment_to_compare, y_column):\n",
    "    sns.swarmplot(x=treatment_to_compare, y='Value', data=data)\n",
    "    overlay_data_points_and_error_bars(data, treatment_to_compare, \"Swarm Plot\")\n",
    "    style_plot(\"Swarm Plot\", treatment_to_compare, y_column)"
   ]
  },
  {
   "cell_type": "markdown",
   "id": "ae6172f6-8bbf-474e-bbd1-2fb5193c939e",
   "metadata": {},
   "source": [
    "## Function - style_plot()\n",
    "- paramter: plot_type (handed over by function call), treatment_to_compare, y-column optional (handed over by function call)\n",
    "- created elements:\n",
    "    - suptitle with plot type- and treatment to compare information, default size for fontsize= 18 and position set via ha=\"center\" and x=0.5\n",
    "    - x-axis label: treatment to compare information\n",
    "    - when an y-axis ist given by function call, y-axis label contains \"value\" information\n",
    "    - x-tick labels are rotated by 45° clockwise\n",
    "    - automated optimised plot display (avoided overlappping)\n",
    "    - a legend is shown"
   ]
  },
  {
   "cell_type": "code",
   "execution_count": null,
   "id": "83fc7319-c5fb-47e3-bd8f-9a8ef93d845e",
   "metadata": {},
   "outputs": [],
   "source": [
    "def style_plot(plot_type, treatment_to_compare, y_column=None): \n",
    "    plt.suptitle(f'{plot_type} for {treatment_to_compare}', fontsize = 18, ha='center', x=0.5)\n",
    "    plt.xlabel(f'{treatment_to_compare}')\n",
    "    if y_column: \n",
    "        plt.ylabel('Values')\n",
    "    plt.xticks(rotation=45)\n",
    "    plt.tight_layout() \n",
    "    plt.legend()"
   ]
  },
  {
   "cell_type": "markdown",
   "id": "b330e820-51d5-4ecb-80fd-00d45e9f90aa",
   "metadata": {},
   "source": [
    "## Function - overlay_data_points_and_error_bars()\n",
    "- paramter: data, treatment to compare, plottype (handed over by function call)\n",
    "-  check if plot type is not \"Box Plot\"\n",
    "    - if true:\n",
    "        - data grouped by treatment to compare, from value column mean and standard deviation computed for each group\n",
    "        - mean and error bar added per group to plot, data from summary stats used, display elements set\n",
    "- if plot type is \"Violin Plot\", data points are added via sns.stripplot function to the display (red points, semitransparent and jittered) "
   ]
  },
  {
   "cell_type": "code",
   "execution_count": null,
   "id": "1ce689e8-8d81-4cf8-a228-88d6d003953c",
   "metadata": {},
   "outputs": [],
   "source": [
    "def overlay_data_points_and_error_bars(data, treatment_to_compare, plot_type):\n",
    "    if plot_type != \"Box Plot\":\n",
    "        summary_stats = data.groupby(treatment_to_compare)['Value'].agg(['mean', 'std', 'count']).reset_index()\n",
    "        plt.errorbar(summary_stats[treatment_to_compare], summary_stats['mean'], yerr=summary_stats['std'],\n",
    "                     fmt='o', color='k', capsize=5, label='Mean ± SD')\n",
    "    \n",
    "    if plot_type in (\"Violin Plot\", \"Box Plot\", \"Box Plot\"):\n",
    "        sns.stripplot(x=treatment_to_compare, y='Value', data=data, color='red', alpha=0.6, jitter=True)\n",
    "       "
   ]
  }
 ],
 "metadata": {
  "kernelspec": {
   "display_name": "Python 3 (ipykernel)",
   "language": "python",
   "name": "python3"
  },
  "language_info": {
   "codemirror_mode": {
    "name": "ipython",
    "version": 3
   },
   "file_extension": ".py",
   "mimetype": "text/x-python",
   "name": "python",
   "nbconvert_exporter": "python",
   "pygments_lexer": "ipython3",
   "version": "3.12.4"
  }
 },
 "nbformat": 4,
 "nbformat_minor": 5
}
