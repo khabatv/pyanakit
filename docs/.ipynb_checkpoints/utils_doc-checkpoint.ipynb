{
 "cells": [
  {
   "cell_type": "markdown",
   "id": "2b6e092d-9cde-40e6-bf43-76f48f5be317",
   "metadata": {},
   "source": [
    "# Developer Handbook - Utils.py\n",
    "- functions, used by mutliple moduls/functions of pyanakit\n",
    "- list of functions: \n",
    "    - load_clean(): used to load input data with a given paramter and to clean data from \"Not a Number\"(Nan)-values\n",
    "    - select_file_path(): opens a file dialog window to be able to select an input file\n",
    "\n",
    "## Packages"
   ]
  },
  {
   "cell_type": "code",
   "execution_count": null,
   "id": "6776c35c-dcef-43e9-a52c-173dfd3ffe2a",
   "metadata": {},
   "outputs": [],
   "source": [
    "import pandas as pd\n",
    "from tkinter import filedialog"
   ]
  },
  {
   "cell_type": "markdown",
   "id": "86d85761-04b0-4eb5-82e2-e56660325140",
   "metadata": {},
   "source": [
    "## Function - load_clean()\n",
    "1. checking if parameter is given\n",
    "    - uses file path paramter\n",
    "    - if parameter is empty: error message\n",
    "2. reading data according to file type\n",
    "    - depending on file type coreponding function will be used\n",
    "    - if file type not \".csv\" or not \".txt\": error message\n",
    "3. clean data\n",
    "    - with drop.na()\n",
    "    - data variable is reassigned\n",
    "return: data  "
   ]
  },
  {
   "cell_type": "code",
   "execution_count": null,
   "id": "27729f53-74f3-4bc2-af27-d42187c312fd",
   "metadata": {},
   "outputs": [],
   "source": [
    "def load_clean(file_path):\n",
    "    if not file_path:\n",
    "        raise ValueError(\"File path is required.\")\n",
    "\n",
    "    # checking \n",
    "    if file_path.endswith('.csv'):\n",
    "        data = pd.read_csv(file_path)\n",
    "    elif file_path.endswith('.txt'):\n",
    "        data = pd.read_table(file_path)\n",
    "    else:\n",
    "        raise ValueError(\"Unsupported file format\")\n",
    "\n",
    "    #clean data \n",
    "    data = data.dropna()\n",
    "    return data"
   ]
  },
  {
   "cell_type": "markdown",
   "id": "c3a0f7d2-adea-469b-b650-70db094af466",
   "metadata": {},
   "source": [
    "## Function - select_file_path()\n",
    "- no parameter\n",
    "return: open a file dialog\n",
    "  - label to select input table\n",
    "  - pre-selected datatypes: \".csv\", \".txt\" "
   ]
  },
  {
   "cell_type": "code",
   "execution_count": null,
   "id": "283f79c2-0f3d-447d-8ad4-8ee48518f99b",
   "metadata": {},
   "outputs": [],
   "source": [
    "def select_file_path():\n",
    "    return filedialog.askopenfilename(\n",
    "        title=\"Select the input table\",\n",
    "        filetypes=[(\"Text files\", \"*.txt\"), (\"CSV files\", \"*.csv\")]\n",
    "    )"
   ]
  }
 ],
 "metadata": {
  "kernelspec": {
   "display_name": "Python 3 (ipykernel)",
   "language": "python",
   "name": "python3"
  },
  "language_info": {
   "codemirror_mode": {
    "name": "ipython",
    "version": 3
   },
   "file_extension": ".py",
   "mimetype": "text/x-python",
   "name": "python",
   "nbconvert_exporter": "python",
   "pygments_lexer": "ipython3",
   "version": "3.12.4"
  }
 },
 "nbformat": 4,
 "nbformat_minor": 5
}
